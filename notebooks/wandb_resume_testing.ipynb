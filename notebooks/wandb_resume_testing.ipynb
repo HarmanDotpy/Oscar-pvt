{
 "cells": [
  {
   "cell_type": "code",
   "execution_count": 20,
   "metadata": {},
   "outputs": [
    {
     "name": "stdout",
     "output_type": "stream",
     "text": [
      "{'fp16': False, 'seed': 88, 'philly': False, 'use_vg': False, 'do_eval': False, 'do_test': False, 'no_cuda': False, 'code_voc': 512, 'data_dir': '/fsx/harman/data/VinVL_img_features/gqa', 'do_train': True, 'drop_out': 0.3, 'adjust_dp': False, 'cache_dir': '', 'load_fast': False, 'loss_type': 'xe', 'max_steps': -1, 'scheduler': 'linear', 'server_ip': '', 'task_name': 'gqa', 'classifier': 'linear', 'code_level': 'top', 'hard_label': False, 'label_file': '/fsx/harman/data/VinVL_img_features/gqa/trainval_testdev_all_ans2label.pkl', 'local_rank': 0, 'model_type': 'bert', 'output_dir': '/checkpoints/harman/oscar/gqa', 'save_epoch': 1, 'save_steps': -1, 'use_vg_dev': False, 'adjust_loss': False, 'config_name': '', 'do_test_dev': False, 'num_workers': 50, 'server_port': '', 'adam_epsilon': 1e-08, 'do_train_val': False, 'img_feat_dir': '/fsx/harman/data/VinVL_img_features/gqa/model_0060000', 'txt_data_dir': '/fsx/harman/data/VinVL_img_features/gqa', 'warmup_steps': 0, 'weight_decay': 0.05, 'do_lower_case': True, 'learning_rate': 5e-05, 'logging_steps': 200, 'max_grad_norm': 1, 'eval_data_type': 'bal', 'fp16_opt_level': 'O1', 'label2ans_file': None, 'max_seq_length': 165, 'tokenizer_name': '', 'data_label_type': 'all', 'img_feat_format': 'tsv', 'img_feature_dim': 2054, 'overwrite_cache': False, 'train_data_type': 'all', 'cls_hidden_scale': 2, 'img_feature_type': 'faster_r-cnn', 'num_train_epochs': 5, 'save_after_epoch': -1, 'adjust_loss_epoch': -1, 'max_img_seq_length': 50, 'model_name_or_path': '/checkpoints/harman/oscar/88/checkpoint-0240000', 'eval_all_checkpoints': False, 'overwrite_output_dir': False, 'per_gpu_eval_batch_size': 256, 'evaluate_during_training': True, 'per_gpu_train_batch_size': 48, 'gradient_accumulation_steps': 1}\n",
      "<Run harman/SGVL/6w9snk3z (running)>\n"
     ]
    }
   ],
   "source": [
    "import wandb\n",
    "api = wandb.Api()\n",
    "\n",
    "runlink = \"harman/SGVL/6w9snk3z\"\n",
    "# what_i_want_to_use = \"team_name/project_name/artifact_name/prod_tag\"\n",
    "\n",
    "# run is specified by <entity>/<project>/<run_id>\n",
    "run = api.run(runlink)\n",
    "\n",
    "\n",
    "# save the metrics for the run to a csv file\n",
    "metrics_dataframe = run.config\n",
    "print(metrics_dataframe)\n",
    "print(run)\n",
    "# print(metrics_dataframe['a_summary_metric'])\n"
   ]
  },
  {
   "cell_type": "code",
   "execution_count": 28,
   "metadata": {},
   "outputs": [],
   "source": [
    "runs = api.runs(path=\"harman/SGVL\")\n",
    "# runs = api.runs(path=\"harman/SGVL\", filters={'displayName':'144'})"
   ]
  },
  {
   "cell_type": "code",
   "execution_count": 29,
   "metadata": {},
   "outputs": [
    {
     "data": {
      "text/plain": [
       "<Runs harman/SGVL>"
      ]
     },
     "execution_count": 29,
     "metadata": {},
     "output_type": "execute_result"
    }
   ],
   "source": [
    "runs"
   ]
  },
  {
   "cell_type": "code",
   "execution_count": 33,
   "metadata": {},
   "outputs": [
    {
     "name": "stdout",
     "output_type": "stream",
     "text": [
      "{'entity': 'harman', 'project': 'SGVL', 'filters': {'$and': [{'created_at': {'$lt': '2021-01-01', '$gt': '2023-01-01'}}]}, 'order': '-created_at', '_sweeps': {}, '_include_sweeps': True, 'client': <wandb.apis.public.RetryingClient object at 0x7fa3454a8970>, 'variables': {'project': 'SGVL', 'entity': 'harman', 'order': '-created_at', 'filters': '{\"$and\": [{\"created_at\": {\"$lt\": \"2021-01-01\", \"$gt\": \"2023-01-01\"}}]}'}, 'per_page': 50, 'objects': [], 'index': -1, 'last_response': None}\n"
     ]
    }
   ],
   "source": [
    "# print(runs.__dict__)\n",
    "runs = api.runs('harman/SGVL', {\n",
    "    \"$and\": [{\n",
    "    'created_at': {\n",
    "        \"$lt\": '2021-01-01',\n",
    "        \"$gt\": '2023-01-01'\n",
    "        }\n",
    "    }]\n",
    "})\n",
    "print(runs.__dict__)"
   ]
  },
  {
   "cell_type": "code",
   "execution_count": null,
   "metadata": {},
   "outputs": [],
   "source": []
  }
 ],
 "metadata": {
  "kernelspec": {
   "display_name": "Python 3 (ipykernel)",
   "language": "python",
   "name": "python3"
  },
  "language_info": {
   "codemirror_mode": {
    "name": "ipython",
    "version": 3
   },
   "file_extension": ".py",
   "mimetype": "text/x-python",
   "name": "python",
   "nbconvert_exporter": "python",
   "pygments_lexer": "ipython3",
   "version": "3.9.13"
  },
  "vscode": {
   "interpreter": {
    "hash": "6568a17d87f84a7acd9e73b508e76dd07f64729bbd386ca0c13538d039834b03"
   }
  }
 },
 "nbformat": 4,
 "nbformat_minor": 4
}
