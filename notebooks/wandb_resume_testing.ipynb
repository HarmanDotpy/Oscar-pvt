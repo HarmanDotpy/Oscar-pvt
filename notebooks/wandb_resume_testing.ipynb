{
 "cells": [
  {
   "cell_type": "code",
   "execution_count": null,
   "metadata": {},
   "outputs": [],
   "source": [
    "import wandb\n",
    "api = wandb.Api()\n",
    "\n",
    "what_i_use = \"team_name/project_name/runID_h3h3h4h4h4h4\"\n",
    "# what_i_want_to_use = \"team_name/project_name/artifact_name/prod_tag\"\n",
    "\n",
    "# run is specified by <entity>/<project>/<run_id>\n",
    "run = api.run(what_i_use)\n",
    "\n",
    "\n",
    "# save the metrics for the run to a csv file\n",
    "metrics_dataframe = run.summary\n",
    "print(metrics_dataframe['a_summary_metric'])\n"
   ]
  }
 ],
 "metadata": {
  "kernelspec": {
   "display_name": "Python 3.9.7",
   "language": "python",
   "name": "python3"
  },
  "language_info": {
   "name": "python",
   "version": "3.9.7"
  },
  "orig_nbformat": 4,
  "vscode": {
   "interpreter": {
    "hash": "6568a17d87f84a7acd9e73b508e76dd07f64729bbd386ca0c13538d039834b03"
   }
  }
 },
 "nbformat": 4,
 "nbformat_minor": 2
}
